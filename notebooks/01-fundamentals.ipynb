{
 "cells": [
  {
   "cell_type": "markdown",
   "metadata": {},
   "source": [
    "# Fundamentals of Numerical Linear Algebra"
   ]
  },
  {
   "cell_type": "markdown",
   "metadata": {},
   "source": [
    "> The field of numerical linear algebra is more beautiful, and more fundamental, than its rather dull name may suggest. More beautiful, because it is full of powerful ideas that are **quite unlike those normally emphasized in a linear algebra course in a mathematics department**.[1]\n",
    "\n",
    "- **Numerical linear algebra** is really *applied* linear algebra. It is here that one finds the essential ideas that every mathematical scientist needs to work effectively with vectors and matrices. \n",
    "\n",
    "- **Numerical linear algebra** is really functional analysis, but with emphasis always on **practical algorithmic ideas** rather than mathematical technicalities.\n",
    "\n",
    "If any other mathematical topic is as fundamental to the mathematical sciences as **calculus** and **differential equations**, it is **numerical linear algebra**."
   ]
  },
  {
   "cell_type": "markdown",
   "metadata": {},
   "source": [
    "## Matrix-Vector Multiplication"
   ]
  },
  {
   "cell_type": "markdown",
   "metadata": {},
   "source": [
    "To define multiplication between a [matrix](https://en.wikipedia.org/wiki/Matrix_(mathematics) $\\matrix{A}$ and a [vector](https://en.wikipedia.org/wiki/Vector_algebra) $\\vec{x}$, we need to view the vector as a column matrix. We define the matrix-vector only for the case when the number of columns in $\\matrix{A}$ equals the number of rows in $\\vec{x}$.\n",
    "\n",
    "So, if $\\matrix{A}$ is an $m \\times n$ matrix (i.e., with $n$ columns), the product $A\\vec{x}$ is defined for $n \\times 1$ column vectors $\\vec{x}$. If we let $A \\vec{x} = \\vec{b}$, then $\\vec{b}$ is an $m \\times 1$ column vector. \n",
    "\n",
    "The general formula for a matrix-vector product is \n",
    "\n",
    "$$\\begin{align*}\n",
    "  A\\vec{x}=\n",
    "  \\left[\n",
    "    \\begin{array}{cccc}\n",
    "      a_{11} & a_{12} & \\ldots & a_{1n}\\\\\n",
    "      a_{21} & a_{22} & \\ldots & a_{2n}\\\\\n",
    "      \\vdots & \\vdots & \\ddots & \\vdots\\\\\n",
    "      a_{m1} & a_{m2} & \\ldots & a_{mn}\n",
    "    \\end{array}\n",
    "  \\right]\n",
    "  \\left[\n",
    "    \\begin{array}{c}\n",
    "      x_1\\\\\n",
    "      x_2\\\\\n",
    "      \\vdots\\\\\n",
    "      x_n\n",
    "    \\end{array}\n",
    "  \\right]\n",
    "  =\n",
    "  \\left[\n",
    "    \\begin{array}{c}\n",
    "      a_{11}x_1+a_{12}x_2 + \\cdots + a_{1n} x_n\\\\\n",
    "      a_{21}x_1+a_{22}x_2 + \\cdots + a_{2n} x_n\\\\\n",
    "      \\vdots\\\\\n",
    "      a_{m1}x_1+a_{m2}x_2 + \\cdots + a_{mn} x_n\\\\\n",
    "    \\end{array}\n",
    "  \\right].\n",
    "\\end{align*}\n",
    "$$"
   ]
  },
  {
   "cell_type": "markdown",
   "metadata": {},
   "source": [
    "For instance, if\n",
    "$$\\begin{align*}\n",
    "  A = \\left[\n",
    "      \\begin{array}{rrr}\n",
    "        1 & -1 & 2\\\\\n",
    "        0  & -3 & 1\n",
    "      \\end{array}\n",
    "    \\right]\n",
    "\\end{align*}$$\n",
    "\n",
    "and $\\vec{x} = (2,1,0)$, then\n",
    "\n",
    "\n",
    "$$\\begin{align*}\n",
    "  A \\vec{x} &= \\left[\n",
    "    \\begin{array}{rrr}\n",
    "      1 & -1 & 2\\\\\n",
    "      0  & -3 & 1\n",
    "    \\end{array}\n",
    "  \\right]\n",
    "  \\left[\n",
    "    \\begin{array}{l}\n",
    "      2\\\\1\\\\0\n",
    "    \\end{array}\n",
    "  \\right]\\\\\n",
    "  &=\n",
    "  \\left[\n",
    "    \\begin{array}{r}\n",
    "      2 \\cdot 1 - 1\\cdot 1 + 0 \\cdot 2\\\\\n",
    "      2 \\cdot 0 - 1 \\cdot 3 +0 \\cdot 1\n",
    "    \\end{array}\n",
    "  \\right]\n",
    "  \\\\\n",
    "  &=\n",
    "  \\left[\n",
    "    \\begin{array}{r}\n",
    "      1\\\\\n",
    "      -3\n",
    "    \\end{array}\n",
    "  \\right]\n",
    "\\end{align*}$$"
   ]
  },
  {
   "cell_type": "markdown",
   "metadata": {},
   "source": [
    "Another way of interpreting the matrix-vector product is that if $\\vec{b} = \\matrix{A}\\vec{x}$, then $\\vec{b}$ is **a linear combination of the columns of A**."
   ]
  },
  {
   "cell_type": "markdown",
   "metadata": {},
   "source": [
    "### Python Implementation"
   ]
  },
  {
   "cell_type": "code",
   "execution_count": 1,
   "metadata": {},
   "outputs": [],
   "source": [
    "import numpy as np"
   ]
  },
  {
   "cell_type": "code",
   "execution_count": 2,
   "metadata": {},
   "outputs": [
    {
     "data": {
      "text/plain": [
       "array([[ 1, -1,  2],\n",
       "       [ 0, -3,  1]])"
      ]
     },
     "execution_count": 2,
     "metadata": {},
     "output_type": "execute_result"
    }
   ],
   "source": [
    "A = np.array([[1, -1, 2],\n",
    "              [0, -3, 1]])\n",
    "A"
   ]
  },
  {
   "cell_type": "code",
   "execution_count": 3,
   "metadata": {},
   "outputs": [
    {
     "data": {
      "text/plain": [
       "(2, 3)"
      ]
     },
     "execution_count": 3,
     "metadata": {},
     "output_type": "execute_result"
    }
   ],
   "source": [
    "# Shape of A\n",
    "A.shape"
   ]
  },
  {
   "cell_type": "code",
   "execution_count": 4,
   "metadata": {},
   "outputs": [
    {
     "data": {
      "text/plain": [
       "array([2, 1, 0])"
      ]
     },
     "execution_count": 4,
     "metadata": {},
     "output_type": "execute_result"
    }
   ],
   "source": [
    "x = np.array([2, 1, 0])\n",
    "x"
   ]
  },
  {
   "cell_type": "code",
   "execution_count": 5,
   "metadata": {},
   "outputs": [
    {
     "data": {
      "text/plain": [
       "(3,)"
      ]
     },
     "execution_count": 5,
     "metadata": {},
     "output_type": "execute_result"
    }
   ],
   "source": [
    "# Shape of x\n",
    "x.shape"
   ]
  },
  {
   "cell_type": "code",
   "execution_count": 6,
   "metadata": {},
   "outputs": [],
   "source": [
    "# Matrix-vector product\n",
    "Ax = A @ x.T   # same as A.dot(x.T)"
   ]
  },
  {
   "cell_type": "code",
   "execution_count": 7,
   "metadata": {},
   "outputs": [
    {
     "data": {
      "text/plain": [
       "array([ 1, -3])"
      ]
     },
     "execution_count": 7,
     "metadata": {},
     "output_type": "execute_result"
    }
   ],
   "source": [
    "Ax"
   ]
  },
  {
   "cell_type": "markdown",
   "metadata": {},
   "source": [
    "**NOTE**: ![](https://i.imgur.com/W8TXnLH.png)\n",
    "\n",
    "(source: [What is the '@=' symbol for in Python?](https://stackoverflow.com/questions/27385633/what-is-the-symbol-for-in-python))"
   ]
  },
  {
   "cell_type": "markdown",
   "metadata": {},
   "source": [
    "## Matrix-matrix product"
   ]
  },
  {
   "cell_type": "markdown",
   "metadata": {},
   "source": [
    "Since we view vectors as column matrices, the matrix-vector product is *simply a special case of the matrix-matrix product*(i.e., a product of two matrices). Just like for the matrix-vector product, the product $AB$ between matrices $A$ and $B$ is defined only if the number of *columns* in $A$ equals the number of *rows* in $B$. Mathematically, we say we can multiply an $m \\times n$ matrix $A$ by an $n \\times p$ matrix $B$.\n",
    "\n",
    "**NOTE:** if $p$ happened to be $1$, then $B$ would be an $n \\times 1$ column vector and we'd be back to the matrix-vector product."
   ]
  },
  {
   "cell_type": "markdown",
   "metadata": {},
   "source": [
    "The product $AB$ is an $m \\times p$ matrix which we will call $C$, i.e., $AB = C$. To calculate the product $B$, we view $B$ as a bunch of $n \\times 1$ column vectors lined up next to each other:\n",
    "\n",
    "$$\\begin{align*}\n",
    "    \\left[\n",
    "    \\begin{array}{cccc}\n",
    "      b_{11} & b_{12} & \\ldots & b_{1p}\\\\\n",
    "      b_{21} & b_{22} & \\ldots & b_{2p}\\\\\n",
    "      \\vdots & \\vdots & \\vdots & \\vdots\\\\\n",
    "      b_{n1} & b_{n2} & \\ldots & b_{np}\n",
    "    \\end{array}\n",
    "  \\right]\n",
    "  =\n",
    "    \\left[\n",
    "    \\left[\n",
    "    \\begin{array}{c}\n",
    "      b_{11}\\\\\n",
    "      b_{21}\\\\\n",
    "      \\vdots\\\\\n",
    "      b_{n1}\\\\\n",
    "    \\end{array}\n",
    "    \\right]\n",
    "    \\left[\n",
    "    \\begin{array}{c}\n",
    "      b_{12}\\\\\n",
    "      b_{22}\\\\\n",
    "      \\vdots\\\\\n",
    "      b_{n2}\\\\\n",
    "    \\end{array}\n",
    "    \\right]\n",
    "    \\cdots\n",
    "    \\left[\n",
    "    \\begin{array}{c}\n",
    "      b_{1p}\\\\\n",
    "      b_{2p}\\\\\n",
    "      \\vdots\\\\\n",
    "      b_{np}\\\\\n",
    "    \\end{array}\n",
    "    \\right]\n",
    "  \\right]\n",
    "\\end{align*}$$"
   ]
  },
  {
   "cell_type": "markdown",
   "metadata": {},
   "source": [
    "Then each column of $C$ is the matrix-vector product of $A$ with the respective column of $B$. In other words, the component in the $i$th row and $j$th column of $C$ is the dot product between the $i$th row of $A$ and the $j$th column of $B$.\n",
    "\n",
    "Mathematically, we write this component of $C$ as $$c_{ij} = a_{i1}b_{1j} + a_{i2}b_{2j} + \\cdots +\n",
    "a_{in}b_{nj}$$"
   ]
  },
  {
   "cell_type": "markdown",
   "metadata": {},
   "source": [
    "**Example:** \n",
    "1) Compute $BC$, where\n",
    "$$\\begin{align*}\n",
    "  B=\n",
    "  \\left[\n",
    "    \\begin{array}{rrr}\n",
    "      1 &2 &3\\\\\n",
    "      4 &5 &6\n",
    "    \\end{array}\n",
    "  \\right]\n",
    "  \\qquad\n",
    "  \\text{and}\n",
    "  \\qquad\n",
    "  C=\n",
    "  \\left[\n",
    "    \\begin{array}{rr}\n",
    "      1 &2\\\\\n",
    "      3 & 4\\\\\n",
    "      5 &6\n",
    "    \\end{array}\n",
    "  \\right].\n",
    "\\end{align*}$$"
   ]
  },
  {
   "cell_type": "markdown",
   "metadata": {},
   "source": [
    "**Solution**\n",
    "$$\\begin{align*}\n",
    "  BC &=\n",
    "  \\left[\n",
    "    \\begin{array}{rrr}\n",
    "      1 &2 &3\\\\\n",
    "      4 &5 &6\n",
    "    \\end{array}\n",
    "  \\right]\n",
    "  \\left[\n",
    "    \\begin{array}{rr}\n",
    "      1 &2\\\\\n",
    "      3 & 4\\\\\n",
    "      5 &6\n",
    "    \\end{array}\n",
    "  \\right]\n",
    "  \\\\\n",
    "  &=\n",
    "  \\left[\n",
    "    \\begin{array}{ccc}\n",
    "      1\\cdot 1 + 2\\cdot 3 + 3\\cdot 5 \n",
    "      &&  1\\cdot 2 + 2\\cdot 4 + 3\\cdot 6 \\\\\n",
    "      4\\cdot 1 +5\\cdot 3 +6\\cdot 5\n",
    "      && 4\\cdot 2 +5\\cdot 4 +6\\cdot 6\n",
    "    \\end{array}\n",
    "  \\right]\n",
    "  \\\\\n",
    "  &=\n",
    "  \\left[\n",
    "    \\begin{array}{cc}\n",
    "      22 & 28\\\\\n",
    "      49 & 64\n",
    "    \\end{array}\n",
    "  \\right]\n",
    "\\end{align*}$$"
   ]
  },
  {
   "cell_type": "markdown",
   "metadata": {},
   "source": [
    "2) Using $B$ and $C$, calculate $CB$.\n",
    "\n",
    "**Solution**:\n",
    "$$\\begin{align*}\n",
    "  CB &=\n",
    "  \\left[\n",
    "    \\begin{array}{rr}\n",
    "      1 &2\\\\\n",
    "      3 & 4\\\\\n",
    "      5 &6\n",
    "    \\end{array}\n",
    "  \\right]\n",
    " \\left[\n",
    "    \\begin{array}{rrr}\n",
    "      1 &2 &3\\\\\n",
    "      4 &5 &6\n",
    "    \\end{array}\n",
    "  \\right]\n",
    "  \\\\\n",
    "  &=\n",
    "  \\left[\n",
    "    \\begin{array}{ccccc}\n",
    "      1\\cdot 1 + 2\\cdot 4\n",
    "      &&1\\cdot 2 + 2\\cdot 5\n",
    "      &&1\\cdot 3 + 2\\cdot 6\\\\\n",
    "      3\\cdot 1 + 4\\cdot 4\n",
    "      &&3\\cdot 2 + 4\\cdot 5\n",
    "      &&3\\cdot 3 + 4\\cdot 6\\\\\n",
    "      5\\cdot 1 + 6\\cdot 4\n",
    "      &&5\\cdot 2 + 6\\cdot 5\n",
    "      &&5\\cdot 3 + 6\\cdot 6\n",
    "    \\end{array}\n",
    "  \\right]\n",
    "  \\\\\n",
    "  &=\n",
    "  \\left[\n",
    "    \\begin{array}{rrr}\n",
    "      9 & 12 & 15\\\\\n",
    "      19 & 26 & 33\\\\\n",
    "      29 & 40 & 51\n",
    "    \\end{array}\n",
    "  \\right]\n",
    "\\end{align*}$$"
   ]
  },
  {
   "cell_type": "markdown",
   "metadata": {},
   "source": [
    "### Python Implementation"
   ]
  },
  {
   "cell_type": "code",
   "execution_count": 8,
   "metadata": {},
   "outputs": [
    {
     "name": "stdout",
     "output_type": "stream",
     "text": [
      "[[1 2 3]\n",
      " [4 5 6]]\n",
      "(2, 3)\n"
     ]
    }
   ],
   "source": [
    "B = np.array([[1, 2, 3], [4, 5, 6]])\n",
    "C = np.array([[1, 2], [3, 4], [5, 6]])\n",
    "print(B)\n",
    "print(B.shape)"
   ]
  },
  {
   "cell_type": "code",
   "execution_count": 9,
   "metadata": {},
   "outputs": [
    {
     "name": "stdout",
     "output_type": "stream",
     "text": [
      "[[1 2]\n",
      " [3 4]\n",
      " [5 6]]\n",
      "(3, 2)\n"
     ]
    }
   ],
   "source": [
    "print(C)\n",
    "print(C.shape)"
   ]
  },
  {
   "cell_type": "code",
   "execution_count": 10,
   "metadata": {},
   "outputs": [
    {
     "data": {
      "text/plain": [
       "array([[22, 28],\n",
       "       [49, 64]])"
      ]
     },
     "execution_count": 10,
     "metadata": {},
     "output_type": "execute_result"
    }
   ],
   "source": [
    "# Matrix - Matrix product\n",
    "BC = B @ C\n",
    "BC"
   ]
  },
  {
   "cell_type": "code",
   "execution_count": 11,
   "metadata": {},
   "outputs": [
    {
     "data": {
      "text/plain": [
       "array([[ 9, 12, 15],\n",
       "       [19, 26, 33],\n",
       "       [29, 40, 51]])"
      ]
     },
     "execution_count": 11,
     "metadata": {},
     "output_type": "execute_result"
    }
   ],
   "source": [
    "CB = C @ B\n",
    "CB"
   ]
  },
  {
   "cell_type": "markdown",
   "metadata": {},
   "source": [
    "Clearly, one can see that the matrix multiplication is not commutative, i.e, $BC \\ne CB$. In the previous example, $BC$ isn't even the same size matrix as $CB$. In some other cases, $BC$ might be defined but $CB$ won't be defined( for instance, when $B$ is a $3 \\times 2$ matrix and $C$ is a $2 \\times 4$ matrix)."
   ]
  },
  {
   "cell_type": "code",
   "execution_count": 12,
   "metadata": {},
   "outputs": [
    {
     "data": {
      "text/plain": [
       "(3, 2)"
      ]
     },
     "execution_count": 12,
     "metadata": {},
     "output_type": "execute_result"
    }
   ],
   "source": [
    "B = np.array([[1, 2], [3, 4], [5, 6]])\n",
    "B.shape"
   ]
  },
  {
   "cell_type": "code",
   "execution_count": 13,
   "metadata": {},
   "outputs": [
    {
     "data": {
      "text/plain": [
       "(2, 4)"
      ]
     },
     "execution_count": 13,
     "metadata": {},
     "output_type": "execute_result"
    }
   ],
   "source": [
    "C = np.array([[1, 2, 3, 4], [5, 6, 7, 8]])\n",
    "C.shape"
   ]
  },
  {
   "cell_type": "code",
   "execution_count": 14,
   "metadata": {},
   "outputs": [
    {
     "data": {
      "text/plain": [
       "array([[11, 14, 17, 20],\n",
       "       [23, 30, 37, 44],\n",
       "       [35, 46, 57, 68]])"
      ]
     },
     "execution_count": 14,
     "metadata": {},
     "output_type": "execute_result"
    }
   ],
   "source": [
    "BC = B @ C\n",
    "BC"
   ]
  },
  {
   "cell_type": "code",
   "execution_count": 15,
   "metadata": {},
   "outputs": [
    {
     "data": {
      "text/plain": [
       "(3, 4)"
      ]
     },
     "execution_count": 15,
     "metadata": {},
     "output_type": "execute_result"
    }
   ],
   "source": [
    "BC.shape"
   ]
  },
  {
   "cell_type": "code",
   "execution_count": 16,
   "metadata": {},
   "outputs": [
    {
     "ename": "ValueError",
     "evalue": "shapes (2,4) and (3,2) not aligned: 4 (dim 1) != 3 (dim 0)",
     "output_type": "error",
     "traceback": [
      "\u001b[0;31m------------------------------------------------------------------\u001b[0m",
      "\u001b[0;31mValueError\u001b[0m                       Traceback (most recent call last)",
      "\u001b[0;32m<ipython-input-16-5783d484bed2>\u001b[0m in \u001b[0;36m<module>\u001b[0;34m()\u001b[0m\n\u001b[0;32m----> 1\u001b[0;31m \u001b[0mCB\u001b[0m \u001b[0;34m=\u001b[0m \u001b[0mC\u001b[0m \u001b[0;34m@\u001b[0m \u001b[0mB\u001b[0m\u001b[0;34m\u001b[0m\u001b[0m\n\u001b[0m",
      "\u001b[0;31mValueError\u001b[0m: shapes (2,4) and (3,2) not aligned: 4 (dim 1) != 3 (dim 0)"
     ]
    }
   ],
   "source": [
    "CB = C @ B"
   ]
  },
  {
   "cell_type": "markdown",
   "metadata": {},
   "source": [
    "## Rank of a Matrix"
   ]
  },
  {
   "cell_type": "markdown",
   "metadata": {},
   "source": [
    "The **rank** of a matrix is defined as \n",
    "1. the maximum number of **linearly independent column vectors** in the matrix. or\n",
    "2. the maximum number of **linearly independent row vectors** in the matrix. \n",
    "\n",
    "Both definitions are equivalent. "
   ]
  },
  {
   "cell_type": "markdown",
   "metadata": {},
   "source": [
    "**NOTE:** ![](https://i.imgur.com/3LyTpDG.png)\n",
    "(Source: [Stat Trek](https://i.imgur.com/3LyTpDG.png))"
   ]
  },
  {
   "cell_type": "markdown",
   "metadata": {},
   "source": [
    "### How to Find Matrix Rank\n",
    "The following section describes the method used to find the rank of any matrix. This method assumes familiarity with [echelon matrices](http://stattrek.com/matrix-algebra/echelon-matrix.aspx) and [echelon transformations](http://stattrek.com/matrix-algebra/echelon-transform.aspx).\n",
    "\n",
    "The maximum number of linearly independent vectors in a matrix is equal to the number of non-zero rows in its row echelon matrix. Therefore, to find the rank of a matrix, we simply transform the matrix to its row echelon form and count the number of non-zero rows.\n",
    "\n",
    "Consider matrix $A$ and its row echelon matrix, $A_{ref}$\n",
    "$$A = \\begin{bmatrix}\n",
    "0 & 1 & 2\\\\ \n",
    "1 & 2 & 1 \\\\ \n",
    "2 & 7 & 8\n",
    "\\end{bmatrix}\\Rightarrow A_{ref} = \\begin{bmatrix}\n",
    "1 & 0 & -3\\\\ \n",
    "0 & 1 & 2 \\\\ \n",
    "0 & 0 & 0\n",
    "\\end{bmatrix}$$\n",
    "\n",
    "![](https://i.imgur.com/g3KNqiX.png)\n",
    "\n",
    "Because the row echelon form $A_{ref}$ has two non-zero rows, we know that matrix $A$ has **two independent row vectors**; and we know that **the rank of matrix A is 2**."
   ]
  },
  {
   "cell_type": "code",
   "execution_count": 17,
   "metadata": {},
   "outputs": [],
   "source": [
    "from sympy import Matrix"
   ]
  },
  {
   "cell_type": "code",
   "execution_count": 18,
   "metadata": {},
   "outputs": [
    {
     "data": {
      "text/plain": [
       "Matrix([\n",
       "[0, 1, 2],\n",
       "[1, 2, 1],\n",
       "[2, 7, 8]])"
      ]
     },
     "execution_count": 18,
     "metadata": {},
     "output_type": "execute_result"
    }
   ],
   "source": [
    "A = Matrix([[0, 1, 2], [1, 2, 1], [2, 7, 8]])\n",
    "A"
   ]
  },
  {
   "cell_type": "code",
   "execution_count": 19,
   "metadata": {},
   "outputs": [
    {
     "data": {
      "text/plain": [
       "(Matrix([\n",
       " [1, 0, -3],\n",
       " [0, 1,  2],\n",
       " [0, 0,  0]]), (0, 1))"
      ]
     },
     "execution_count": 19,
     "metadata": {},
     "output_type": "execute_result"
    }
   ],
   "source": [
    "# Row echelon form\n",
    "A_ref = A.rref()\n",
    "A_ref"
   ]
  },
  {
   "cell_type": "markdown",
   "metadata": {},
   "source": [
    "SymPy ```rref()``` attribute returns a tuple of two elements. The first is the reduced row echelon form, and the second is a list of indices of the pivot columns."
   ]
  },
  {
   "cell_type": "code",
   "execution_count": 20,
   "metadata": {},
   "outputs": [
    {
     "data": {
      "text/plain": [
       "2"
      ]
     },
     "execution_count": 20,
     "metadata": {},
     "output_type": "execute_result"
    }
   ],
   "source": [
    "# Matrix Rank\n",
    "A.rank()"
   ]
  },
  {
   "cell_type": "markdown",
   "metadata": {},
   "source": [
    "### Full Rank Matrices"
   ]
  },
  {
   "cell_type": "markdown",
   "metadata": {},
   "source": [
    "When all of the **vectors** in a matrix are **linearly independent**, the matrix is said to be **full rank**. Consider the matrices A and B below.\n",
    "\n",
    "$$A = \\begin{bmatrix}\n",
    "1 & 2 & 3\\\\ \n",
    "2 & 4 & 6\n",
    "\\end{bmatrix}$$\n",
    "\n",
    "$$B = \\begin{bmatrix}\n",
    "1 & 0 & 2\\\\ \n",
    "2 & 1 & 0\\\\ \n",
    "3 &  2& 1\n",
    "\\end{bmatrix}$$\n",
    "\n",
    "Notice that row 2 of matrix $A$ is a scalar multiple of row 1; that is, row 2 is equal to twice row 1. Therefore, rows 1 and 2 are linearly dependent. Matrix $A$ has only one linearly independent row, so its rank is 1. Hence, **matrix A is not full rank**.\n",
    "\n",
    "Now, look at matrix $B$. All of its rows are linearly independent, so the rank of matrix $B$ is 3. **Matrix B is full rank**."
   ]
  },
  {
   "cell_type": "code",
   "execution_count": 24,
   "metadata": {},
   "outputs": [
    {
     "data": {
      "text/plain": [
       "Matrix([\n",
       "[1, 2, 3],\n",
       "[2, 4, 6]])"
      ]
     },
     "execution_count": 24,
     "metadata": {},
     "output_type": "execute_result"
    }
   ],
   "source": [
    "A = Matrix([[1, 2, 3], [2, 4, 6]])\n",
    "A"
   ]
  },
  {
   "cell_type": "code",
   "execution_count": 25,
   "metadata": {},
   "outputs": [
    {
     "data": {
      "text/plain": [
       "1"
      ]
     },
     "execution_count": 25,
     "metadata": {},
     "output_type": "execute_result"
    }
   ],
   "source": [
    "A.rank()"
   ]
  },
  {
   "cell_type": "code",
   "execution_count": 26,
   "metadata": {},
   "outputs": [
    {
     "data": {
      "text/plain": [
       "Matrix([\n",
       "[1, 0, 2],\n",
       "[2, 1, 0],\n",
       "[3, 2, 1]])"
      ]
     },
     "execution_count": 26,
     "metadata": {},
     "output_type": "execute_result"
    }
   ],
   "source": [
    "B = Matrix([[1, 0, 2], [2, 1, 0], [3, 2, 1]])\n",
    "B"
   ]
  },
  {
   "cell_type": "code",
   "execution_count": 27,
   "metadata": {},
   "outputs": [
    {
     "data": {
      "text/plain": [
       "3"
      ]
     },
     "execution_count": 27,
     "metadata": {},
     "output_type": "execute_result"
    }
   ],
   "source": [
    "B.rank()"
   ]
  },
  {
   "cell_type": "markdown",
   "metadata": {},
   "source": [
    "## Nullspace"
   ]
  },
  {
   "cell_type": "markdown",
   "metadata": {},
   "source": [
    "If A is a matrix, the **nullspace** is the set of off all vector s $\\vec{x}$ such that $A\\vec{x}=0$. \n",
    "\n",
    "It is good to think of the matrix; if tou let $f(x) = A \\vec{x}$, then the nullspace is again the set of all vectors that are sent to to the zero vector by $f$. In other words, the set of vectors that **lose their identity** as $f$ is applied to them.\n",
    "\n",
    "**NOTE:** Nullity is the complement to the rank of a matrix. They are both really important. **rank** + ** dim Null A**  = total number of columns."
   ]
  },
  {
   "cell_type": "markdown",
   "metadata": {},
   "source": [
    "### How to Find Nullspace"
   ]
  },
  {
   "cell_type": "markdown",
   "metadata": {},
   "source": [
    "- **Step 1:** Transform the matrix to the reduced row echelon form\n",
    "- **Step 2:** Interpret the reduced row echelon form"
   ]
  },
  {
   "cell_type": "markdown",
   "metadata": {},
   "source": [
    "Find the nullspace of the matrix\n",
    "$$A = \\begin{bmatrix}\n",
    "0 & 1 & 2\\\\ \n",
    "1 & 2 & 1 \\\\ \n",
    "2 & 7 & 8\n",
    "\\end{bmatrix}$$"
   ]
  },
  {
   "cell_type": "markdown",
   "metadata": {},
   "source": [
    "**Step 1: Transform the matrix to the reduced row echelon form**\n",
    "![](https://i.imgur.com/g3KNqiX.png)"
   ]
  },
  {
   "cell_type": "markdown",
   "metadata": {},
   "source": [
    "**Step 2: Interpret the reduced row echelon form**"
   ]
  },
  {
   "cell_type": "markdown",
   "metadata": {},
   "source": [
    "The reduced row echelon form of the augmented matrix is\n",
    "$$A_{ref} = \\begin{bmatrix}\n",
    "1 & 0 & -3\\\\ \n",
    "0 & 1 & 2 \\\\ \n",
    "0 & 0 & 0\n",
    "\\end{bmatrix}$$\n",
    "\n",
    "which corresponds to the system\n",
    "\n",
    "$$\\left\\{\\begin{matrix}\n",
    "1x_1 &  &  - 3x_3 & = 0 \\\\ \n",
    " & 1 x_2 & + 2x_3  & = 0 \\\\ \n",
    " &  & 0 & = 0\n",
    "\\end{matrix}\\right.$$\n",
    "\n",
    "A leading entry on the $(i,j)$ position indicates that the $j$th unknown will be determined using the $i$th equation. \n",
    "\n",
    "Those columns in the coefficient part of the matrix that do not contain leading entries, correspond to unknowns that will be arbitrary. The system has **infinetly many solutions**:\n",
    "\n",
    "$$\\begin{matrix}\n",
    "x_1 & = & 3x_3\\\\ \n",
    "x_2 & = & -2x_3\\\\ \n",
    "x3 & = & \\text{arbitrary}\n",
    "\\end{matrix}$$\n",
    "\n",
    "Therefore, the **nullspcace** has a basis formed by the set \n",
    "$$\\begin{Bmatrix}\n",
    "3\\\\ \n",
    "-2\\\\ \n",
    "1\\end{Bmatrix}$$"
   ]
  },
  {
   "cell_type": "markdown",
   "metadata": {},
   "source": [
    "- The **rank** of the matrix is 2. It equals the number of **leading entries**.\n",
    "- The **nullity** of the matrix is 1. This is the dimension of the null space. It equals the number of **columns without leading entries**. "
   ]
  },
  {
   "cell_type": "code",
   "execution_count": 21,
   "metadata": {},
   "outputs": [
    {
     "data": {
      "text/plain": [
       "(Matrix([\n",
       " [1, 0, -3],\n",
       " [0, 1,  2],\n",
       " [0, 0,  0]]), (0, 1))"
      ]
     },
     "execution_count": 21,
     "metadata": {},
     "output_type": "execute_result"
    }
   ],
   "source": [
    "# Reduced echelon form\n",
    "A_ref"
   ]
  },
  {
   "cell_type": "code",
   "execution_count": 22,
   "metadata": {},
   "outputs": [
    {
     "data": {
      "text/plain": [
       "[Matrix([\n",
       " [ 3],\n",
       " [-2],\n",
       " [ 1]])]"
      ]
     },
     "execution_count": 22,
     "metadata": {},
     "output_type": "execute_result"
    }
   ],
   "source": [
    "A_nullspace = A.nullspace()\n",
    "A_nullspace"
   ]
  },
  {
   "cell_type": "markdown",
   "metadata": {},
   "source": [
    "## Matrix Determinant"
   ]
  },
  {
   "cell_type": "code",
   "execution_count": 43,
   "metadata": {},
   "outputs": [
    {
     "data": {
      "application/json": {
       "Software versions": [
        {
         "module": "Python",
         "version": "3.6.3 64bit [GCC 4.8.2 20140120 (Red Hat 4.8.2-15)]"
        },
        {
         "module": "IPython",
         "version": "6.2.1"
        },
        {
         "module": "OS",
         "version": "Linux 4.4.0 53 generic x86_64 with debian stretch sid"
        },
        {
         "module": "numpy",
         "version": "1.12.1"
        },
        {
         "module": "sympy",
         "version": "1.1.1"
        }
       ]
      },
      "text/html": [
       "<table><tr><th>Software</th><th>Version</th></tr><tr><td>Python</td><td>3.6.3 64bit [GCC 4.8.2 20140120 (Red Hat 4.8.2-15)]</td></tr><tr><td>IPython</td><td>6.2.1</td></tr><tr><td>OS</td><td>Linux 4.4.0 53 generic x86_64 with debian stretch sid</td></tr><tr><td>numpy</td><td>1.12.1</td></tr><tr><td>sympy</td><td>1.1.1</td></tr><tr><td colspan='2'>Fri Oct 13 09:58:57 2017 CDT</td></tr></table>"
      ],
      "text/latex": [
       "\\begin{tabular}{|l|l|}\\hline\n",
       "{\\bf Software} & {\\bf Version} \\\\ \\hline\\hline\n",
       "Python & 3.6.3 64bit [GCC 4.8.2 20140120 (Red Hat 4.8.2-15)] \\\\ \\hline\n",
       "IPython & 6.2.1 \\\\ \\hline\n",
       "OS & Linux 4.4.0 53 generic x86\\_64 with debian stretch sid \\\\ \\hline\n",
       "numpy & 1.12.1 \\\\ \\hline\n",
       "sympy & 1.1.1 \\\\ \\hline\n",
       "\\hline \\multicolumn{2}{|l|}{Fri Oct 13 09:58:57 2017 CDT} \\\\ \\hline\n",
       "\\end{tabular}\n"
      ],
      "text/plain": [
       "Software versions\n",
       "Python 3.6.3 64bit [GCC 4.8.2 20140120 (Red Hat 4.8.2-15)]\n",
       "IPython 6.2.1\n",
       "OS Linux 4.4.0 53 generic x86_64 with debian stretch sid\n",
       "numpy 1.12.1\n",
       "sympy 1.1.1\n",
       "Fri Oct 13 09:58:57 2017 CDT"
      ]
     },
     "execution_count": 43,
     "metadata": {},
     "output_type": "execute_result"
    }
   ],
   "source": [
    "%load_ext version_information\n",
    "%version_information numpy, sympy"
   ]
  },
  {
   "cell_type": "markdown",
   "metadata": {},
   "source": [
    "## References"
   ]
  },
  {
   "cell_type": "markdown",
   "metadata": {},
   "source": [
    "- [1] [Numerical Linear Algebra](https://www.amazon.com/Numerical-Linear-Algebra-Lloyd-Trefethen/dp/0898713617) by Trefethen and Bau."
   ]
  },
  {
   "cell_type": "code",
   "execution_count": 23,
   "metadata": {},
   "outputs": [
    {
     "data": {
      "text/plain": [
       "Matrix([\n",
       "[0, 1, 2],\n",
       "[1, 2, 7],\n",
       "[2, 1, 8]])"
      ]
     },
     "execution_count": 23,
     "metadata": {},
     "output_type": "execute_result"
    }
   ],
   "source": [
    "A.adjoint()"
   ]
  },
  {
   "cell_type": "code",
   "execution_count": 40,
   "metadata": {},
   "outputs": [],
   "source": [
    "init_printing()"
   ]
  },
  {
   "cell_type": "code",
   "execution_count": 32,
   "metadata": {},
   "outputs": [],
   "source": [
    "from sympy import *"
   ]
  },
  {
   "cell_type": "code",
   "execution_count": 41,
   "metadata": {},
   "outputs": [],
   "source": [
    "x, y, z = symbols('x y z')"
   ]
  },
  {
   "cell_type": "code",
   "execution_count": 42,
   "metadata": {},
   "outputs": [
    {
     "data": {
      "image/png": "[encoded data removed]",
      "text/latex": [
       "$$x$$"
      ],
      "text/plain": [
       "x"
      ]
     },
     "execution_count": 42,
     "metadata": {},
     "output_type": "execute_result"
    }
   ],
   "source": [
    "x"
   ]
  },
  {
   "cell_type": "code",
   "execution_count": 43,
   "metadata": {},
   "outputs": [
    {
     "data": {
      "image/png": "[encoded data removed]",
      "text/latex": [
       "$$e^{x}$$"
      ],
      "text/plain": [
       " x\n",
       "ℯ "
      ]
     },
     "execution_count": 43,
     "metadata": {},
     "output_type": "execute_result"
    }
   ],
   "source": [
    "exp(x)"
   ]
  },
  {
   "cell_type": "code",
   "execution_count": 44,
   "metadata": {},
   "outputs": [
    {
     "data": {
      "image/png": "[encoded data removed]",
      "text/latex": [
       "$$\\left(\\frac{e^{x}}{y!}\\right)^{z}$$"
      ],
      "text/plain": [
       "    z\n",
       "⎛ x⎞ \n",
       "⎜ℯ ⎟ \n",
       "⎜──⎟ \n",
       "⎝y!⎠ "
      ]
     },
     "execution_count": 44,
     "metadata": {},
     "output_type": "execute_result"
    }
   ],
   "source": [
    "(exp(x)/ factorial(y)) ** z"
   ]
  },
  {
   "cell_type": "code",
   "execution_count": null,
   "metadata": {},
   "outputs": [],
   "source": []
  }
 ],
 "metadata": {
  "kernelspec": {
   "display_name": "Python 3",
   "language": "python",
   "name": "python3"
  },
  "language_info": {
   "codemirror_mode": {
    "name": "ipython",
    "version": 3
   },
   "file_extension": ".py",
   "mimetype": "text/x-python",
   "name": "python",
   "nbconvert_exporter": "python",
   "pygments_lexer": "ipython3",
   "version": "3.6.3"
  },
  "toc": {
   "nav_menu": {},
   "number_sections": false,
   "sideBar": true,
   "skip_h1_title": false,
   "toc_cell": false,
   "toc_position": {},
   "toc_section_display": "block",
   "toc_window_display": true
  }
 },
 "nbformat": 4,
 "nbformat_minor": 2
}
